{
 "cells": [
  {
   "cell_type": "markdown",
   "metadata": {},
   "source": [
    "# How to estimate binary logit models with statsmodel\n"
   ]
  },
  {
   "cell_type": "markdown",
   "metadata": {},
   "source": [
    "Sysematic utilities for walking and bus, respectively:\n",
    "\n",
    "$$\n",
    " V_w = \\alpha_w + \\beta_{T,w} T_{w}\n",
    "$$\n",
    "\n",
    "\n",
    "$$\n",
    " V_b = \\beta_{T,b} T_{b} + \\beta_{\\text{transfer}} D_{\\text{transfer}}\n",
    "$$\n",
    "\n",
    "\n",
    "$$\n",
    "P_w(V_w,V_b) = \\frac{\\exp(V_w)}{\\exp(V_w)+\\exp(V_b)} = \\frac{1}{1+\\exp({V_b-V_w})}\n",
    "$$\n"
   ]
  },
  {
   "cell_type": "markdown",
   "metadata": {},
   "source": [
    "## Creating fake data"
   ]
  },
  {
   "cell_type": "code",
   "execution_count": 1,
   "metadata": {},
   "outputs": [
    {
     "data": {
      "text/plain": [
       "0    0.154385\n",
       "1    0.185282\n",
       "2    0.123266\n",
       "3    0.289250\n",
       "4    0.196247\n",
       "dtype: float64"
      ]
     },
     "execution_count": 1,
     "metadata": {},
     "output_type": "execute_result"
    }
   ],
   "source": [
    "import numpy as np\n",
    "import pandas as pd\n",
    "from numpy import random\n",
    "random.seed(30)\n",
    "\n",
    "# a model of people choosing between walking and bus on different blocks\n",
    "\n",
    "N =1000\n",
    "\n",
    "#unknowns\n",
    "αw = 1\n",
    "βTb = -2\n",
    "βTw = -3\n",
    "βtransfer = -1.25\n",
    "\n",
    "#known\n",
    "data = pd.DataFrame({\n",
    "    'Tb':random.lognormal(0.2,0.2,size=N),\n",
    "    'Tw':random.lognormal(0.4,0.2,size=N),\n",
    "    'transfer': random.choice([0,1],N,p=[0.7,0.3])#30% of the bus routes have a transfer\n",
    "})\n",
    "\n",
    "#unknowns\n",
    "Vdf = pd.DataFrame({\n",
    "   'Vw': αw + βTw*data.Tw + random.normal(0.,.15,size=N), \n",
    "   'Vb': βTb*data.Tb + βtransfer*data.transfer + random.normal(0.,.15,size=N)\n",
    "})\n",
    "\n",
    "#known \n",
    "PwActual = np.exp(Vdf.Vw)/(np.exp(Vdf.Vw) + np.exp(Vdf.Vb))\n",
    "PwActual.head()"
   ]
  },
  {
   "cell_type": "markdown",
   "metadata": {},
   "source": [
    "## Estimating a model from the data"
   ]
  },
  {
   "cell_type": "code",
   "execution_count": 3,
   "metadata": {
    "scrolled": true
   },
   "outputs": [
    {
     "name": "stdout",
     "output_type": "stream",
     "text": [
      "Optimization terminated successfully.\n",
      "         Current function value: 0.461382\n",
      "         Iterations 6\n"
     ]
    },
    {
     "name": "stderr",
     "output_type": "stream",
     "text": [
      "/opt/anaconda3/lib/python3.7/site-packages/statsmodels/tsa/tsatools.py:142: FutureWarning: In a future version of pandas all arguments of concat except for the argument 'objs' will be keyword-only\n",
      "  x = pd.concat(x[::order], 1)\n"
     ]
    },
    {
     "data": {
      "text/html": [
       "<table class=\"simpletable\">\n",
       "<caption>Logit Regression Results</caption>\n",
       "<tr>\n",
       "  <th>Dep. Variable:</th>           <td>y</td>        <th>  No. Observations:  </th>  <td>  1000</td>  \n",
       "</tr>\n",
       "<tr>\n",
       "  <th>Model:</th>                 <td>Logit</td>      <th>  Df Residuals:      </th>  <td>   996</td>  \n",
       "</tr>\n",
       "<tr>\n",
       "  <th>Method:</th>                 <td>MLE</td>       <th>  Df Model:          </th>  <td>     3</td>  \n",
       "</tr>\n",
       "<tr>\n",
       "  <th>Date:</th>            <td>Mon, 14 Feb 2022</td> <th>  Pseudo R-squ.:     </th>  <td>0.1603</td>  \n",
       "</tr>\n",
       "<tr>\n",
       "  <th>Time:</th>                <td>20:03:12</td>     <th>  Log-Likelihood:    </th> <td> -461.38</td> \n",
       "</tr>\n",
       "<tr>\n",
       "  <th>converged:</th>             <td>True</td>       <th>  LL-Null:           </th> <td> -549.44</td> \n",
       "</tr>\n",
       "<tr>\n",
       "  <th>Covariance Type:</th>     <td>nonrobust</td>    <th>  LLR p-value:       </th> <td>6.104e-38</td>\n",
       "</tr>\n",
       "</table>\n",
       "<table class=\"simpletable\">\n",
       "<tr>\n",
       "      <td></td>        <th>coef</th>     <th>std err</th>      <th>z</th>      <th>P>|z|</th>  <th>[0.025</th>    <th>0.975]</th>  \n",
       "</tr>\n",
       "<tr>\n",
       "  <th>const</th>    <td>    1.0426</td> <td>    0.548</td> <td>    1.902</td> <td> 0.057</td> <td>   -0.032</td> <td>    2.117</td>\n",
       "</tr>\n",
       "<tr>\n",
       "  <th>Tb</th>       <td>    1.9584</td> <td>    0.308</td> <td>    6.355</td> <td> 0.000</td> <td>    1.354</td> <td>    2.562</td>\n",
       "</tr>\n",
       "<tr>\n",
       "  <th>Tw</th>       <td>   -2.9719</td> <td>    0.295</td> <td>  -10.079</td> <td> 0.000</td> <td>   -3.550</td> <td>   -2.394</td>\n",
       "</tr>\n",
       "<tr>\n",
       "  <th>transfer</th> <td>    1.2151</td> <td>    0.161</td> <td>    7.560</td> <td> 0.000</td> <td>    0.900</td> <td>    1.530</td>\n",
       "</tr>\n",
       "</table>"
      ],
      "text/plain": [
       "<class 'statsmodels.iolib.summary.Summary'>\n",
       "\"\"\"\n",
       "                           Logit Regression Results                           \n",
       "==============================================================================\n",
       "Dep. Variable:                      y   No. Observations:                 1000\n",
       "Model:                          Logit   Df Residuals:                      996\n",
       "Method:                           MLE   Df Model:                            3\n",
       "Date:                Mon, 14 Feb 2022   Pseudo R-squ.:                  0.1603\n",
       "Time:                        20:03:12   Log-Likelihood:                -461.38\n",
       "converged:                       True   LL-Null:                       -549.44\n",
       "Covariance Type:            nonrobust   LLR p-value:                 6.104e-38\n",
       "==============================================================================\n",
       "                 coef    std err          z      P>|z|      [0.025      0.975]\n",
       "------------------------------------------------------------------------------\n",
       "const          1.0426      0.548      1.902      0.057      -0.032       2.117\n",
       "Tb             1.9584      0.308      6.355      0.000       1.354       2.562\n",
       "Tw            -2.9719      0.295    -10.079      0.000      -3.550      -2.394\n",
       "transfer       1.2151      0.161      7.560      0.000       0.900       1.530\n",
       "==============================================================================\n",
       "\"\"\""
      ]
     },
     "execution_count": 3,
     "metadata": {},
     "output_type": "execute_result"
    }
   ],
   "source": [
    "import statsmodels.api as sm\n",
    "\n",
    "exog = sm.add_constant(data)\n",
    "exog.head()\n",
    "\n",
    "model = sm.Logit(PwActual, exog)\n",
    "res = model.fit()\n",
    "res.summary()#gives you all the info you'd want to know"
   ]
  },
  {
   "cell_type": "code",
   "execution_count": null,
   "metadata": {},
   "outputs": [],
   "source": [
    "# to see the params alone\n",
    "res.params"
   ]
  },
  {
   "cell_type": "code",
   "execution_count": 46,
   "metadata": {},
   "outputs": [
    {
     "data": {
      "text/plain": [
       "0      0.124228\n",
       "1      0.218614\n",
       "2      0.183876\n",
       "3      0.275138\n",
       "4      0.176657\n",
       "         ...   \n",
       "995    0.445415\n",
       "996    0.405022\n",
       "997    0.390963\n",
       "998    0.114890\n",
       "999    0.309919\n",
       "Length: 1000, dtype: float64"
      ]
     },
     "execution_count": 46,
     "metadata": {},
     "output_type": "execute_result"
    }
   ],
   "source": [
    "print(res.predict()) #here are the predicted mode shares"
   ]
  },
  {
   "cell_type": "code",
   "execution_count": null,
   "metadata": {},
   "outputs": [],
   "source": [
    "#this should give you the same predictions\n",
    "params = res.params\n",
    "αw = params.const\n",
    "βTw = params.Tw\n",
    "# the parameters for the mode you're NOT estimating need to have their signs reversed\n",
    "βTb = -params.Tb\n",
    "βtransfer = -params.transfer\n",
    "Vb = data.Tb*βTb + data.transfer*βtransfer\n",
    "Vw = data.Tw*βTw + αw\n",
    "np.exp(Vw)/(np.exp(Vw)+np.exp(Vb)) #this should be the same"
   ]
  },
  {
   "cell_type": "code",
   "execution_count": null,
   "metadata": {},
   "outputs": [],
   "source": [
    "# this hsould give you the same mode share\n",
    "ΔV = exog.dot(res.params) #V_w - V_b\n",
    "1/(1+np.exp(ΔV))"
   ]
  },
  {
   "cell_type": "code",
   "execution_count": 49,
   "metadata": {},
   "outputs": [
    {
     "data": {
      "text/plain": [
       "<matplotlib.axes._subplots.AxesSubplot at 0x206f68de970>"
      ]
     },
     "execution_count": 49,
     "metadata": {},
     "output_type": "execute_result"
    },
    {
     "data": {
      "image/png": "[encoded data removed]",
      "text/plain": [
       "<Figure size 432x288 with 1 Axes>"
      ]
     },
     "metadata": {
      "needs_background": "light"
     },
     "output_type": "display_data"
    }
   ],
   "source": [
    "plotdf = pd.DataFrame({\n",
    "    'ΔV': ΔV,\n",
    "    'PwEstimated': res.predict()\n",
    "})\n",
    "plotdf.plot.scatter('ΔV','PwEstimated',alpha=0.5,s=4)"
   ]
  },
  {
   "cell_type": "markdown",
   "metadata": {},
   "source": [
    "# Write and read data from csv"
   ]
  },
  {
   "cell_type": "code",
   "execution_count": 58,
   "metadata": {},
   "outputs": [
    {
     "data": {
      "text/html": [
       "<div>\n",
       "<style scoped>\n",
       "    .dataframe tbody tr th:only-of-type {\n",
       "        vertical-align: middle;\n",
       "    }\n",
       "\n",
       "    .dataframe tbody tr th {\n",
       "        vertical-align: top;\n",
       "    }\n",
       "\n",
       "    .dataframe thead th {\n",
       "        text-align: right;\n",
       "    }\n",
       "</style>\n",
       "<table border=\"1\" class=\"dataframe\">\n",
       "  <thead>\n",
       "    <tr style=\"text-align: right;\">\n",
       "      <th></th>\n",
       "      <th>A</th>\n",
       "      <th>B</th>\n",
       "      <th>C</th>\n",
       "    </tr>\n",
       "  </thead>\n",
       "  <tbody>\n",
       "    <tr>\n",
       "      <th>0</th>\n",
       "      <td>0.000000</td>\n",
       "      <td>0.932798</td>\n",
       "      <td>0.111059</td>\n",
       "    </tr>\n",
       "    <tr>\n",
       "      <th>1</th>\n",
       "      <td>0.103448</td>\n",
       "      <td>0.730741</td>\n",
       "      <td>0.329319</td>\n",
       "    </tr>\n",
       "    <tr>\n",
       "      <th>2</th>\n",
       "      <td>0.206897</td>\n",
       "      <td>0.635924</td>\n",
       "      <td>0.422571</td>\n",
       "    </tr>\n",
       "    <tr>\n",
       "      <th>3</th>\n",
       "      <td>0.310345</td>\n",
       "      <td>0.166738</td>\n",
       "      <td>0.783889</td>\n",
       "    </tr>\n",
       "    <tr>\n",
       "      <th>4</th>\n",
       "      <td>0.413793</td>\n",
       "      <td>0.603679</td>\n",
       "      <td>0.370659</td>\n",
       "    </tr>\n",
       "    <tr>\n",
       "      <th>5</th>\n",
       "      <td>0.517241</td>\n",
       "      <td>0.512519</td>\n",
       "      <td>0.507171</td>\n",
       "    </tr>\n",
       "    <tr>\n",
       "      <th>6</th>\n",
       "      <td>0.620690</td>\n",
       "      <td>0.282135</td>\n",
       "      <td>0.367741</td>\n",
       "    </tr>\n",
       "    <tr>\n",
       "      <th>7</th>\n",
       "      <td>0.724138</td>\n",
       "      <td>0.844831</td>\n",
       "      <td>0.700657</td>\n",
       "    </tr>\n",
       "    <tr>\n",
       "      <th>8</th>\n",
       "      <td>0.827586</td>\n",
       "      <td>0.782988</td>\n",
       "      <td>0.479739</td>\n",
       "    </tr>\n",
       "    <tr>\n",
       "      <th>9</th>\n",
       "      <td>0.931034</td>\n",
       "      <td>0.885669</td>\n",
       "      <td>0.683409</td>\n",
       "    </tr>\n",
       "    <tr>\n",
       "      <th>10</th>\n",
       "      <td>1.034483</td>\n",
       "      <td>0.239829</td>\n",
       "      <td>0.076460</td>\n",
       "    </tr>\n",
       "    <tr>\n",
       "      <th>11</th>\n",
       "      <td>1.137931</td>\n",
       "      <td>0.566735</td>\n",
       "      <td>0.335629</td>\n",
       "    </tr>\n",
       "    <tr>\n",
       "      <th>12</th>\n",
       "      <td>1.241379</td>\n",
       "      <td>0.558675</td>\n",
       "      <td>0.759008</td>\n",
       "    </tr>\n",
       "    <tr>\n",
       "      <th>13</th>\n",
       "      <td>1.344828</td>\n",
       "      <td>0.539469</td>\n",
       "      <td>0.545681</td>\n",
       "    </tr>\n",
       "    <tr>\n",
       "      <th>14</th>\n",
       "      <td>1.448276</td>\n",
       "      <td>0.881073</td>\n",
       "      <td>0.231013</td>\n",
       "    </tr>\n",
       "    <tr>\n",
       "      <th>15</th>\n",
       "      <td>1.551724</td>\n",
       "      <td>0.743140</td>\n",
       "      <td>0.396090</td>\n",
       "    </tr>\n",
       "    <tr>\n",
       "      <th>16</th>\n",
       "      <td>1.655172</td>\n",
       "      <td>0.499537</td>\n",
       "      <td>0.603046</td>\n",
       "    </tr>\n",
       "    <tr>\n",
       "      <th>17</th>\n",
       "      <td>1.758621</td>\n",
       "      <td>0.257844</td>\n",
       "      <td>0.689479</td>\n",
       "    </tr>\n",
       "    <tr>\n",
       "      <th>18</th>\n",
       "      <td>1.862069</td>\n",
       "      <td>0.526792</td>\n",
       "      <td>0.630909</td>\n",
       "    </tr>\n",
       "    <tr>\n",
       "      <th>19</th>\n",
       "      <td>1.965517</td>\n",
       "      <td>0.199126</td>\n",
       "      <td>0.553547</td>\n",
       "    </tr>\n",
       "    <tr>\n",
       "      <th>20</th>\n",
       "      <td>2.068966</td>\n",
       "      <td>0.270566</td>\n",
       "      <td>0.851999</td>\n",
       "    </tr>\n",
       "    <tr>\n",
       "      <th>21</th>\n",
       "      <td>2.172414</td>\n",
       "      <td>0.649754</td>\n",
       "      <td>0.225619</td>\n",
       "    </tr>\n",
       "    <tr>\n",
       "      <th>22</th>\n",
       "      <td>2.275862</td>\n",
       "      <td>0.603478</td>\n",
       "      <td>0.460147</td>\n",
       "    </tr>\n",
       "    <tr>\n",
       "      <th>23</th>\n",
       "      <td>2.379310</td>\n",
       "      <td>0.716761</td>\n",
       "      <td>0.693251</td>\n",
       "    </tr>\n",
       "    <tr>\n",
       "      <th>24</th>\n",
       "      <td>2.482759</td>\n",
       "      <td>0.241875</td>\n",
       "      <td>0.617196</td>\n",
       "    </tr>\n",
       "    <tr>\n",
       "      <th>25</th>\n",
       "      <td>2.586207</td>\n",
       "      <td>0.810760</td>\n",
       "      <td>0.544464</td>\n",
       "    </tr>\n",
       "    <tr>\n",
       "      <th>26</th>\n",
       "      <td>2.689655</td>\n",
       "      <td>0.628751</td>\n",
       "      <td>0.657005</td>\n",
       "    </tr>\n",
       "    <tr>\n",
       "      <th>27</th>\n",
       "      <td>2.793103</td>\n",
       "      <td>0.581619</td>\n",
       "      <td>0.557257</td>\n",
       "    </tr>\n",
       "    <tr>\n",
       "      <th>28</th>\n",
       "      <td>2.896552</td>\n",
       "      <td>0.733111</td>\n",
       "      <td>0.664967</td>\n",
       "    </tr>\n",
       "    <tr>\n",
       "      <th>29</th>\n",
       "      <td>3.000000</td>\n",
       "      <td>0.620811</td>\n",
       "      <td>0.879896</td>\n",
       "    </tr>\n",
       "  </tbody>\n",
       "</table>\n",
       "</div>"
      ],
      "text/plain": [
       "           A         B         C\n",
       "0   0.000000  0.932798  0.111059\n",
       "1   0.103448  0.730741  0.329319\n",
       "2   0.206897  0.635924  0.422571\n",
       "3   0.310345  0.166738  0.783889\n",
       "4   0.413793  0.603679  0.370659\n",
       "5   0.517241  0.512519  0.507171\n",
       "6   0.620690  0.282135  0.367741\n",
       "7   0.724138  0.844831  0.700657\n",
       "8   0.827586  0.782988  0.479739\n",
       "9   0.931034  0.885669  0.683409\n",
       "10  1.034483  0.239829  0.076460\n",
       "11  1.137931  0.566735  0.335629\n",
       "12  1.241379  0.558675  0.759008\n",
       "13  1.344828  0.539469  0.545681\n",
       "14  1.448276  0.881073  0.231013\n",
       "15  1.551724  0.743140  0.396090\n",
       "16  1.655172  0.499537  0.603046\n",
       "17  1.758621  0.257844  0.689479\n",
       "18  1.862069  0.526792  0.630909\n",
       "19  1.965517  0.199126  0.553547\n",
       "20  2.068966  0.270566  0.851999\n",
       "21  2.172414  0.649754  0.225619\n",
       "22  2.275862  0.603478  0.460147\n",
       "23  2.379310  0.716761  0.693251\n",
       "24  2.482759  0.241875  0.617196\n",
       "25  2.586207  0.810760  0.544464\n",
       "26  2.689655  0.628751  0.657005\n",
       "27  2.793103  0.581619  0.557257\n",
       "28  2.896552  0.733111  0.664967\n",
       "29  3.000000  0.620811  0.879896"
      ]
     },
     "execution_count": 58,
     "metadata": {},
     "output_type": "execute_result"
    }
   ],
   "source": [
    "df.to_csv('test.csv',index=False)\n",
    "pd.read_csv('test.csv')"
   ]
  },
  {
   "cell_type": "code",
   "execution_count": null,
   "metadata": {},
   "outputs": [],
   "source": []
  }
 ],
 "metadata": {
  "kernelspec": {
   "display_name": "Python 3",
   "language": "python",
   "name": "python3"
  },
  "language_info": {
   "codemirror_mode": {
    "name": "ipython",
    "version": 3
   },
   "file_extension": ".py",
   "mimetype": "text/x-python",
   "name": "python",
   "nbconvert_exporter": "python",
   "pygments_lexer": "ipython3",
   "version": "3.7.7"
  }
 },
 "nbformat": 4,
 "nbformat_minor": 4
}
