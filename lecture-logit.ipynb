{
 "cells": [
  {
   "cell_type": "markdown",
   "metadata": {},
   "source": [
    "# Latex tip\n",
    "\n",
    "Use ```\\left(\\dots\\right)``` to make big brackets.\n",
    "\n",
    "$$\n",
    "\\left (\\frac{\\alpha+\\beta + \\int_0^{\\infty}f(x)dx}{\\gamma}\\right)^2\n",
    "$$"
   ]
  },
  {
   "cell_type": "markdown",
   "metadata": {},
   "source": [
    "# Pandas dataframes\n",
    "\n",
    "Pandas is one of the most popular Python libraries for data manipulation and fast math operations.\n",
    "https://pandas.pydata.org/docs/user_guide/index.html"
   ]
  },
  {
   "cell_type": "code",
   "execution_count": 69,
   "metadata": {},
   "outputs": [
    {
     "data": {
      "text/html": [
       "<div>\n",
       "<style scoped>\n",
       "    .dataframe tbody tr th:only-of-type {\n",
       "        vertical-align: middle;\n",
       "    }\n",
       "\n",
       "    .dataframe tbody tr th {\n",
       "        vertical-align: top;\n",
       "    }\n",
       "\n",
       "    .dataframe thead th {\n",
       "        text-align: right;\n",
       "    }\n",
       "</style>\n",
       "<table border=\"1\" class=\"dataframe\">\n",
       "  <thead>\n",
       "    <tr style=\"text-align: right;\">\n",
       "      <th></th>\n",
       "      <th>A</th>\n",
       "      <th>B</th>\n",
       "    </tr>\n",
       "  </thead>\n",
       "  <tbody>\n",
       "    <tr>\n",
       "      <th>0</th>\n",
       "      <td>1</td>\n",
       "      <td>4</td>\n",
       "    </tr>\n",
       "    <tr>\n",
       "      <th>1</th>\n",
       "      <td>2</td>\n",
       "      <td>5</td>\n",
       "    </tr>\n",
       "    <tr>\n",
       "      <th>2</th>\n",
       "      <td>3</td>\n",
       "      <td>6</td>\n",
       "    </tr>\n",
       "  </tbody>\n",
       "</table>\n",
       "</div>"
      ],
      "text/plain": [
       "   A  B\n",
       "0  1  4\n",
       "1  2  5\n",
       "2  3  6"
      ]
     },
     "execution_count": 69,
     "metadata": {},
     "output_type": "execute_result"
    }
   ],
   "source": [
    "import pandas as pd\n",
    "df = pd.DataFrame({'A': [1,2,3],'B':[4,5,6]}) #this is a datframe\n",
    "df"
   ]
  },
  {
   "cell_type": "markdown",
   "metadata": {},
   "source": [
    "Now I'll make a dataframe out of a bunch of normal random variables."
   ]
  },
  {
   "cell_type": "code",
   "execution_count": 6,
   "metadata": {},
   "outputs": [
    {
     "data": {
      "text/html": [
       "<div>\n",
       "<style scoped>\n",
       "    .dataframe tbody tr th:only-of-type {\n",
       "        vertical-align: middle;\n",
       "    }\n",
       "\n",
       "    .dataframe tbody tr th {\n",
       "        vertical-align: top;\n",
       "    }\n",
       "\n",
       "    .dataframe thead th {\n",
       "        text-align: right;\n",
       "    }\n",
       "</style>\n",
       "<table border=\"1\" class=\"dataframe\">\n",
       "  <thead>\n",
       "    <tr style=\"text-align: right;\">\n",
       "      <th></th>\n",
       "      <th>A</th>\n",
       "      <th>B</th>\n",
       "      <th>C</th>\n",
       "    </tr>\n",
       "  </thead>\n",
       "  <tbody>\n",
       "    <tr>\n",
       "      <th>0</th>\n",
       "      <td>0.476200</td>\n",
       "      <td>0.414367</td>\n",
       "      <td>-0.499773</td>\n",
       "    </tr>\n",
       "    <tr>\n",
       "      <th>1</th>\n",
       "      <td>-0.249354</td>\n",
       "      <td>0.037142</td>\n",
       "      <td>1.009810</td>\n",
       "    </tr>\n",
       "    <tr>\n",
       "      <th>2</th>\n",
       "      <td>1.218093</td>\n",
       "      <td>0.927089</td>\n",
       "      <td>0.208748</td>\n",
       "    </tr>\n",
       "    <tr>\n",
       "      <th>3</th>\n",
       "      <td>0.600139</td>\n",
       "      <td>-0.403505</td>\n",
       "      <td>-0.787000</td>\n",
       "    </tr>\n",
       "    <tr>\n",
       "      <th>4</th>\n",
       "      <td>0.962305</td>\n",
       "      <td>0.059110</td>\n",
       "      <td>1.684862</td>\n",
       "    </tr>\n",
       "    <tr>\n",
       "      <th>5</th>\n",
       "      <td>0.243579</td>\n",
       "      <td>-0.790191</td>\n",
       "      <td>-0.989718</td>\n",
       "    </tr>\n",
       "    <tr>\n",
       "      <th>6</th>\n",
       "      <td>-0.467235</td>\n",
       "      <td>0.637809</td>\n",
       "      <td>-0.114923</td>\n",
       "    </tr>\n",
       "    <tr>\n",
       "      <th>7</th>\n",
       "      <td>-0.912973</td>\n",
       "      <td>-0.605670</td>\n",
       "      <td>-0.038221</td>\n",
       "    </tr>\n",
       "    <tr>\n",
       "      <th>8</th>\n",
       "      <td>-0.441938</td>\n",
       "      <td>0.619535</td>\n",
       "      <td>-0.089100</td>\n",
       "    </tr>\n",
       "    <tr>\n",
       "      <th>9</th>\n",
       "      <td>0.871164</td>\n",
       "      <td>0.933795</td>\n",
       "      <td>0.602784</td>\n",
       "    </tr>\n",
       "  </tbody>\n",
       "</table>\n",
       "</div>"
      ],
      "text/plain": [
       "          A         B         C\n",
       "0  0.476200  0.414367 -0.499773\n",
       "1 -0.249354  0.037142  1.009810\n",
       "2  1.218093  0.927089  0.208748\n",
       "3  0.600139 -0.403505 -0.787000\n",
       "4  0.962305  0.059110  1.684862\n",
       "5  0.243579 -0.790191 -0.989718\n",
       "6 -0.467235  0.637809 -0.114923\n",
       "7 -0.912973 -0.605670 -0.038221\n",
       "8 -0.441938  0.619535 -0.089100\n",
       "9  0.871164  0.933795  0.602784"
      ]
     },
     "execution_count": 6,
     "metadata": {},
     "output_type": "execute_result"
    }
   ],
   "source": [
    "from numpy import random\n",
    "data = random.normal(size=(10,3))\n",
    "df = pd.DataFrame(data,columns=('A','B',\"C\"))\n",
    "df"
   ]
  },
  {
   "cell_type": "markdown",
   "metadata": {},
   "source": [
    "Pandas lets us print out our dataframes nicely, perform column-wise calculations, add new colums and do calculations."
   ]
  },
  {
   "cell_type": "code",
   "execution_count": 73,
   "metadata": {},
   "outputs": [
    {
     "name": "stdout",
     "output_type": "stream",
     "text": [
      "A        2.000000\n",
      "B        5.000000\n",
      "expA    10.064292\n",
      "ΔAB     -3.000000\n",
      "dtype: float64\n"
     ]
    },
    {
     "data": {
      "text/html": [
       "<div>\n",
       "<style scoped>\n",
       "    .dataframe tbody tr th:only-of-type {\n",
       "        vertical-align: middle;\n",
       "    }\n",
       "\n",
       "    .dataframe tbody tr th {\n",
       "        vertical-align: top;\n",
       "    }\n",
       "\n",
       "    .dataframe thead th {\n",
       "        text-align: right;\n",
       "    }\n",
       "</style>\n",
       "<table border=\"1\" class=\"dataframe\">\n",
       "  <thead>\n",
       "    <tr style=\"text-align: right;\">\n",
       "      <th></th>\n",
       "      <th>A</th>\n",
       "      <th>B</th>\n",
       "      <th>expA</th>\n",
       "      <th>ΔAB</th>\n",
       "    </tr>\n",
       "  </thead>\n",
       "  <tbody>\n",
       "    <tr>\n",
       "      <th>0</th>\n",
       "      <td>1</td>\n",
       "      <td>4</td>\n",
       "      <td>2.718282</td>\n",
       "      <td>-3</td>\n",
       "    </tr>\n",
       "    <tr>\n",
       "      <th>1</th>\n",
       "      <td>2</td>\n",
       "      <td>5</td>\n",
       "      <td>7.389056</td>\n",
       "      <td>-3</td>\n",
       "    </tr>\n",
       "    <tr>\n",
       "      <th>2</th>\n",
       "      <td>3</td>\n",
       "      <td>6</td>\n",
       "      <td>20.085537</td>\n",
       "      <td>-3</td>\n",
       "    </tr>\n",
       "  </tbody>\n",
       "</table>\n",
       "</div>"
      ],
      "text/plain": [
       "   A  B       expA  ΔAB\n",
       "0  1  4   2.718282   -3\n",
       "1  2  5   7.389056   -3\n",
       "2  3  6  20.085537   -3"
      ]
     },
     "execution_count": 73,
     "metadata": {},
     "output_type": "execute_result"
    }
   ],
   "source": [
    "import numpy as np\n",
    "df['expA'] = np.exp(df.A) \n",
    "df['ΔAB'] = df.A-df.B\n",
    "print(df.mean())\n",
    "df"
   ]
  },
  {
   "cell_type": "markdown",
   "metadata": {},
   "source": [
    "# Two mode example\n",
    "\n",
    "Now we'll do some quick logit calculations. Suppose people are choosing between walking and taking the bus."
   ]
  },
  {
   "cell_type": "markdown",
   "metadata": {},
   "source": [
    "$$\n",
    "        P_w = \\frac{\\exp(V_w)}{\\exp(V_w)+\\exp(V_b)} = \\frac{1}{1+\\exp(V_b-V_w)} = \\frac{1}{1+\\exp(-\\Delta wb)},\n",
    "$$\n",
    "where $\\Delta wb=V_w-V_b$."
   ]
  },
  {
   "cell_type": "code",
   "execution_count": 77,
   "metadata": {},
   "outputs": [
    {
     "data": {
      "text/plain": [
       "<matplotlib.axes._subplots.AxesSubplot at 0x1e93ff44370>"
      ]
     },
     "execution_count": 77,
     "metadata": {},
     "output_type": "execute_result"
    },
    {
     "data": {
      "image/png": "[encoded data removed]",
      "text/plain": [
       "<Figure size 432x288 with 1 Axes>"
      ]
     },
     "metadata": {
      "needs_background": "light"
     },
     "output_type": "display_data"
    }
   ],
   "source": [
    "df = pd.DataFrame(random.laplace(scale=1,size=(100,2)),columns=('Vw','Vb'))\n",
    "df['Pw'] = np.exp(df.Vw)/(np.exp(df.Vw)+np.exp(df.Vb))\n",
    "df['Δwb'] = df.Vw - df.Vb\n",
    "df.head()\n",
    "df.plot(x='Δwb',y='Pw',kind='scatter',alpha=0.5)"
   ]
  },
  {
   "cell_type": "code",
   "execution_count": 78,
   "metadata": {},
   "outputs": [
    {
     "data": {
      "text/plain": [
       "<matplotlib.axes._subplots.AxesSubplot at 0x1e93d9ed310>"
      ]
     },
     "execution_count": 78,
     "metadata": {},
     "output_type": "execute_result"
    },
    {
     "data": {
      "image/png": "[encoded data removed]",
      "text/plain": [
       "<Figure size 432x288 with 1 Axes>"
      ]
     },
     "metadata": {
      "needs_background": "light"
     },
     "output_type": "display_data"
    }
   ],
   "source": [
    "df.plot(x='Δwb',y='Pw',kind='scatter',alpha=0.5)"
   ]
  },
  {
   "cell_type": "markdown",
   "metadata": {},
   "source": [
    "# Three mode example\n",
    "\n",
    "Choose walking, taking the bus and driving.\n",
    "\n",
    "$$\n",
    "P_w = \\frac{exp(V_w)}{\\exp(V_w)+\\exp(V_b) + \\exp(V_d)} \n",
    "$$\n"
   ]
  },
  {
   "cell_type": "code",
   "execution_count": 79,
   "metadata": {},
   "outputs": [
    {
     "data": {
      "text/plain": [
       "<matplotlib.axes._subplots.AxesSubplot at 0x1e93fa25d60>"
      ]
     },
     "execution_count": 79,
     "metadata": {},
     "output_type": "execute_result"
    },
    {
     "data": {
      "image/png": "[encoded data removed]",
      "text/plain": [
       "<Figure size 432x288 with 1 Axes>"
      ]
     },
     "metadata": {
      "needs_background": "light"
     },
     "output_type": "display_data"
    }
   ],
   "source": [
    "df = pd.DataFrame(random.laplace(scale=1,size=(100,3)),columns=('Vw','Vb','Vd'))\n",
    "df['Pw'] = np.exp(df.Vw)/(np.exp(df.Vw)+np.exp(df.Vb)+np.exp(df.Vd))\n",
    "df['Δwb'] = df.Vw - df.Vb\n",
    "# this plot is no longer neatly along a line\n",
    "df.plot(x='Δwb',y='Pw',kind='scatter',alpha=0.5)"
   ]
  },
  {
   "cell_type": "markdown",
   "metadata": {},
   "source": [
    "# Deriving utilities for walk/bus model"
   ]
  },
  {
   "cell_type": "code",
   "execution_count": 90,
   "metadata": {},
   "outputs": [
    {
     "data": {
      "text/plain": [
       "<matplotlib.axes._subplots.AxesSubplot at 0x1e940522340>"
      ]
     },
     "execution_count": 90,
     "metadata": {},
     "output_type": "execute_result"
    },
    {
     "data": {
      "image/png": "[encoded data removed]",
      "text/plain": [
       "<Figure size 432x288 with 1 Axes>"
      ]
     },
     "metadata": {
      "needs_background": "light"
     },
     "output_type": "display_data"
    }
   ],
   "source": [
    "#T is travel time\n",
    "βT = -2  #coefficient of travel time\n",
    "βM = -1 #coeffiient of money cost\n",
    "αB = -1 #alternative specific constant\n",
    "\n",
    "# utilities for each mode\n",
    "Vw = lambda T:  βT*T \n",
    "Vb = lambda T,M: αB + βT*T + βM*M  #αB is the 'alternative specific constant' for Bus\n",
    "\n",
    "# now get the predicted probabilities\n",
    "df = pd.DataFrame(\n",
    "                random.gamma(1,scale=1,size=(100,3)) #initial data are just draws from a gamma distribution\n",
    "                  ,columns=('Tb','Mb','Tw')\n",
    "                 )\n",
    "df['Tb'] = random.gamma(.5,size=(100,1)) #making the bus travel time lower by swapping with draws from a gamma w/ smaller mean\n",
    "df['Vb'] = Vb(df.Tb,df.Mb)\n",
    "df['Vw'] = Vw(df.Tw)\n",
    "df['Pw'] = np.exp(df.Vw)/(np.exp(df.Vw)+np.exp(df.Vb))\n",
    "df['ΔV'] = df.Vw-df.Vb\n",
    "df.plot('ΔV','Pw',kind='scatter',alpha=0.5)"
   ]
  },
  {
   "cell_type": "markdown",
   "metadata": {},
   "source": [
    "Now suppose each row above stands for a block in Champaign-Urbana, and each block has a different population."
   ]
  },
  {
   "cell_type": "code",
   "execution_count": 91,
   "metadata": {},
   "outputs": [],
   "source": [
    "df['BlockPop'] = random.uniform(low=150,high=250,size=(100,1)) #randomly generating the block populations\n",
    "df['BlockWalk'] = df.Pw*df.BlockPop #calculating the number of people on each block who walk"
   ]
  },
  {
   "cell_type": "code",
   "execution_count": 92,
   "metadata": {},
   "outputs": [
    {
     "data": {
      "text/plain": [
       "13073.501243349645"
      ]
     },
     "execution_count": 92,
     "metadata": {},
     "output_type": "execute_result"
    }
   ],
   "source": [
    "#total number of people who we predict will walk\n",
    "df.BlockWalk.sum()"
   ]
  },
  {
   "cell_type": "markdown",
   "metadata": {},
   "source": [
    "# Running a function row-by-row"
   ]
  },
  {
   "cell_type": "code",
   "execution_count": 84,
   "metadata": {},
   "outputs": [
    {
     "data": {
      "text/html": [
       "<div>\n",
       "<style scoped>\n",
       "    .dataframe tbody tr th:only-of-type {\n",
       "        vertical-align: middle;\n",
       "    }\n",
       "\n",
       "    .dataframe tbody tr th {\n",
       "        vertical-align: top;\n",
       "    }\n",
       "\n",
       "    .dataframe thead th {\n",
       "        text-align: right;\n",
       "    }\n",
       "</style>\n",
       "<table border=\"1\" class=\"dataframe\">\n",
       "  <thead>\n",
       "    <tr style=\"text-align: right;\">\n",
       "      <th></th>\n",
       "      <th>A</th>\n",
       "      <th>B</th>\n",
       "    </tr>\n",
       "  </thead>\n",
       "  <tbody>\n",
       "    <tr>\n",
       "      <th>0</th>\n",
       "      <td>0.323475</td>\n",
       "      <td>-0.323475</td>\n",
       "    </tr>\n",
       "    <tr>\n",
       "      <th>1</th>\n",
       "      <td>0.596628</td>\n",
       "      <td>-0.596628</td>\n",
       "    </tr>\n",
       "    <tr>\n",
       "      <th>2</th>\n",
       "      <td>3.996470</td>\n",
       "      <td>-3.996470</td>\n",
       "    </tr>\n",
       "    <tr>\n",
       "      <th>3</th>\n",
       "      <td>1.228602</td>\n",
       "      <td>-1.228602</td>\n",
       "    </tr>\n",
       "    <tr>\n",
       "      <th>4</th>\n",
       "      <td>1.264102</td>\n",
       "      <td>-1.264102</td>\n",
       "    </tr>\n",
       "  </tbody>\n",
       "</table>\n",
       "</div>"
      ],
      "text/plain": [
       "          A         B\n",
       "0  0.323475 -0.323475\n",
       "1  0.596628 -0.596628\n",
       "2  3.996470 -3.996470\n",
       "3  1.228602 -1.228602\n",
       "4  1.264102 -1.264102"
      ]
     },
     "execution_count": 84,
     "metadata": {},
     "output_type": "execute_result"
    }
   ],
   "source": [
    "def f(row):\n",
    "    return [row.Vw-row.Vb,row.Vb-row.Vw]\n",
    "    \n",
    "df2=df.apply(f,axis=1,result_type='expand')\n",
    "df2.head()\n",
    "df2.columns = ('A','B')\n",
    "df2.head()"
   ]
  },
  {
   "cell_type": "markdown",
   "metadata": {},
   "source": [
    "# Reading a dataframe from csv\n",
    "\n",
    "Your jupyter notebook needs to be in the same folder as your csv."
   ]
  },
  {
   "cell_type": "code",
   "execution_count": null,
   "metadata": {},
   "outputs": [],
   "source": [
    "import pandas as pd\n",
    "df = pd.read_csv('example_filename.csv')"
   ]
  }
 ],
 "metadata": {
  "kernelspec": {
   "display_name": "Python 3",
   "language": "python",
   "name": "python3"
  },
  "language_info": {
   "codemirror_mode": {
    "name": "ipython",
    "version": 3
   },
   "file_extension": ".py",
   "mimetype": "text/x-python",
   "name": "python",
   "nbconvert_exporter": "python",
   "pygments_lexer": "ipython3",
   "version": "3.8.3"
  }
 },
 "nbformat": 4,
 "nbformat_minor": 4
}
