{
 "cells": [
  {
   "cell_type": "markdown",
   "metadata": {},
   "source": [
    "# Latex tip\n",
    "\n",
    "Use ```\\left(\\dots\\right)``` to make big brackets.\n",
    "\n",
    "$$\n",
    "\\left (\\frac{\\alpha+\\beta + \\int_0^{\\infty}f(x)dx}{\\gamma}\\right)^2\n",
    "$$"
   ]
  },
  {
   "cell_type": "markdown",
   "metadata": {},
   "source": [
    "# Pandas dataframes\n",
    "\n",
    "Pandas is one of the most popular Python libraries for data manipulation and fast math operations.\n",
    "https://pandas.pydata.org/docs/user_guide/index.html"
   ]
  },
  {
   "cell_type": "code",
   "execution_count": 1,
   "metadata": {},
   "outputs": [
    {
     "data": {
      "text/html": [
       "<div>\n",
       "<style scoped>\n",
       "    .dataframe tbody tr th:only-of-type {\n",
       "        vertical-align: middle;\n",
       "    }\n",
       "\n",
       "    .dataframe tbody tr th {\n",
       "        vertical-align: top;\n",
       "    }\n",
       "\n",
       "    .dataframe thead th {\n",
       "        text-align: right;\n",
       "    }\n",
       "</style>\n",
       "<table border=\"1\" class=\"dataframe\">\n",
       "  <thead>\n",
       "    <tr style=\"text-align: right;\">\n",
       "      <th></th>\n",
       "      <th>A</th>\n",
       "      <th>B</th>\n",
       "    </tr>\n",
       "  </thead>\n",
       "  <tbody>\n",
       "    <tr>\n",
       "      <th>0</th>\n",
       "      <td>1</td>\n",
       "      <td>4</td>\n",
       "    </tr>\n",
       "    <tr>\n",
       "      <th>1</th>\n",
       "      <td>2</td>\n",
       "      <td>5</td>\n",
       "    </tr>\n",
       "    <tr>\n",
       "      <th>2</th>\n",
       "      <td>3</td>\n",
       "      <td>6</td>\n",
       "    </tr>\n",
       "  </tbody>\n",
       "</table>\n",
       "</div>"
      ],
      "text/plain": [
       "   A  B\n",
       "0  1  4\n",
       "1  2  5\n",
       "2  3  6"
      ]
     },
     "execution_count": 1,
     "metadata": {},
     "output_type": "execute_result"
    }
   ],
   "source": [
    "import pandas as pd\n",
    "df = pd.DataFrame({'A': [1,2,3],'B':[4,5,6]}) #this is a datframe\n",
    "df"
   ]
  },
  {
   "cell_type": "markdown",
   "metadata": {},
   "source": [
    "Now I'll make a dataframe out of a bunch of normal random variables."
   ]
  },
  {
   "cell_type": "code",
   "execution_count": 2,
   "metadata": {},
   "outputs": [
    {
     "data": {
      "text/html": [
       "<div>\n",
       "<style scoped>\n",
       "    .dataframe tbody tr th:only-of-type {\n",
       "        vertical-align: middle;\n",
       "    }\n",
       "\n",
       "    .dataframe tbody tr th {\n",
       "        vertical-align: top;\n",
       "    }\n",
       "\n",
       "    .dataframe thead th {\n",
       "        text-align: right;\n",
       "    }\n",
       "</style>\n",
       "<table border=\"1\" class=\"dataframe\">\n",
       "  <thead>\n",
       "    <tr style=\"text-align: right;\">\n",
       "      <th></th>\n",
       "      <th>A</th>\n",
       "      <th>B</th>\n",
       "      <th>C</th>\n",
       "    </tr>\n",
       "  </thead>\n",
       "  <tbody>\n",
       "    <tr>\n",
       "      <th>0</th>\n",
       "      <td>-0.509385</td>\n",
       "      <td>-0.114037</td>\n",
       "      <td>0.295179</td>\n",
       "    </tr>\n",
       "    <tr>\n",
       "      <th>1</th>\n",
       "      <td>0.167982</td>\n",
       "      <td>-0.343943</td>\n",
       "      <td>0.175211</td>\n",
       "    </tr>\n",
       "    <tr>\n",
       "      <th>2</th>\n",
       "      <td>-0.434166</td>\n",
       "      <td>0.264908</td>\n",
       "      <td>-0.064196</td>\n",
       "    </tr>\n",
       "    <tr>\n",
       "      <th>3</th>\n",
       "      <td>0.082420</td>\n",
       "      <td>0.566734</td>\n",
       "      <td>0.193248</td>\n",
       "    </tr>\n",
       "    <tr>\n",
       "      <th>4</th>\n",
       "      <td>0.321084</td>\n",
       "      <td>-0.328885</td>\n",
       "      <td>-2.566184</td>\n",
       "    </tr>\n",
       "    <tr>\n",
       "      <th>5</th>\n",
       "      <td>1.041196</td>\n",
       "      <td>-0.723471</td>\n",
       "      <td>0.339025</td>\n",
       "    </tr>\n",
       "    <tr>\n",
       "      <th>6</th>\n",
       "      <td>-2.662387</td>\n",
       "      <td>1.579839</td>\n",
       "      <td>-0.555611</td>\n",
       "    </tr>\n",
       "    <tr>\n",
       "      <th>7</th>\n",
       "      <td>-1.354731</td>\n",
       "      <td>1.100460</td>\n",
       "      <td>1.625664</td>\n",
       "    </tr>\n",
       "    <tr>\n",
       "      <th>8</th>\n",
       "      <td>-0.698799</td>\n",
       "      <td>0.323471</td>\n",
       "      <td>2.201502</td>\n",
       "    </tr>\n",
       "    <tr>\n",
       "      <th>9</th>\n",
       "      <td>0.309624</td>\n",
       "      <td>-1.372263</td>\n",
       "      <td>-0.904501</td>\n",
       "    </tr>\n",
       "  </tbody>\n",
       "</table>\n",
       "</div>"
      ],
      "text/plain": [
       "          A         B         C\n",
       "0 -0.509385 -0.114037  0.295179\n",
       "1  0.167982 -0.343943  0.175211\n",
       "2 -0.434166  0.264908 -0.064196\n",
       "3  0.082420  0.566734  0.193248\n",
       "4  0.321084 -0.328885 -2.566184\n",
       "5  1.041196 -0.723471  0.339025\n",
       "6 -2.662387  1.579839 -0.555611\n",
       "7 -1.354731  1.100460  1.625664\n",
       "8 -0.698799  0.323471  2.201502\n",
       "9  0.309624 -1.372263 -0.904501"
      ]
     },
     "execution_count": 2,
     "metadata": {},
     "output_type": "execute_result"
    }
   ],
   "source": [
    "from numpy import random\n",
    "data = random.normal(size=(10,3))\n",
    "df = pd.DataFrame(data,columns=('A','B',\"C\"))\n",
    "df"
   ]
  },
  {
   "cell_type": "markdown",
   "metadata": {},
   "source": [
    "Pandas lets us print out our dataframes nicely, perform column-wise calculations, add new colums and do calculations."
   ]
  },
  {
   "cell_type": "code",
   "execution_count": 3,
   "metadata": {},
   "outputs": [
    {
     "name": "stdout",
     "output_type": "stream",
     "text": [
      "A      -0.373716\n",
      "B       0.095281\n",
      "C       0.073934\n",
      "expA    0.991661\n",
      "ΔAB    -0.468998\n",
      "dtype: float64\n"
     ]
    },
    {
     "data": {
      "text/html": [
       "<div>\n",
       "<style scoped>\n",
       "    .dataframe tbody tr th:only-of-type {\n",
       "        vertical-align: middle;\n",
       "    }\n",
       "\n",
       "    .dataframe tbody tr th {\n",
       "        vertical-align: top;\n",
       "    }\n",
       "\n",
       "    .dataframe thead th {\n",
       "        text-align: right;\n",
       "    }\n",
       "</style>\n",
       "<table border=\"1\" class=\"dataframe\">\n",
       "  <thead>\n",
       "    <tr style=\"text-align: right;\">\n",
       "      <th></th>\n",
       "      <th>A</th>\n",
       "      <th>B</th>\n",
       "      <th>C</th>\n",
       "      <th>expA</th>\n",
       "      <th>ΔAB</th>\n",
       "    </tr>\n",
       "  </thead>\n",
       "  <tbody>\n",
       "    <tr>\n",
       "      <th>0</th>\n",
       "      <td>-0.509385</td>\n",
       "      <td>-0.114037</td>\n",
       "      <td>0.295179</td>\n",
       "      <td>0.600865</td>\n",
       "      <td>-0.395348</td>\n",
       "    </tr>\n",
       "    <tr>\n",
       "      <th>1</th>\n",
       "      <td>0.167982</td>\n",
       "      <td>-0.343943</td>\n",
       "      <td>0.175211</td>\n",
       "      <td>1.182916</td>\n",
       "      <td>0.511925</td>\n",
       "    </tr>\n",
       "    <tr>\n",
       "      <th>2</th>\n",
       "      <td>-0.434166</td>\n",
       "      <td>0.264908</td>\n",
       "      <td>-0.064196</td>\n",
       "      <td>0.647804</td>\n",
       "      <td>-0.699075</td>\n",
       "    </tr>\n",
       "    <tr>\n",
       "      <th>3</th>\n",
       "      <td>0.082420</td>\n",
       "      <td>0.566734</td>\n",
       "      <td>0.193248</td>\n",
       "      <td>1.085912</td>\n",
       "      <td>-0.484313</td>\n",
       "    </tr>\n",
       "    <tr>\n",
       "      <th>4</th>\n",
       "      <td>0.321084</td>\n",
       "      <td>-0.328885</td>\n",
       "      <td>-2.566184</td>\n",
       "      <td>1.378621</td>\n",
       "      <td>0.649969</td>\n",
       "    </tr>\n",
       "    <tr>\n",
       "      <th>5</th>\n",
       "      <td>1.041196</td>\n",
       "      <td>-0.723471</td>\n",
       "      <td>0.339025</td>\n",
       "      <td>2.832602</td>\n",
       "      <td>1.764667</td>\n",
       "    </tr>\n",
       "    <tr>\n",
       "      <th>6</th>\n",
       "      <td>-2.662387</td>\n",
       "      <td>1.579839</td>\n",
       "      <td>-0.555611</td>\n",
       "      <td>0.069781</td>\n",
       "      <td>-4.242226</td>\n",
       "    </tr>\n",
       "    <tr>\n",
       "      <th>7</th>\n",
       "      <td>-1.354731</td>\n",
       "      <td>1.100460</td>\n",
       "      <td>1.625664</td>\n",
       "      <td>0.258017</td>\n",
       "      <td>-2.455192</td>\n",
       "    </tr>\n",
       "    <tr>\n",
       "      <th>8</th>\n",
       "      <td>-0.698799</td>\n",
       "      <td>0.323471</td>\n",
       "      <td>2.201502</td>\n",
       "      <td>0.497182</td>\n",
       "      <td>-1.022271</td>\n",
       "    </tr>\n",
       "    <tr>\n",
       "      <th>9</th>\n",
       "      <td>0.309624</td>\n",
       "      <td>-1.372263</td>\n",
       "      <td>-0.904501</td>\n",
       "      <td>1.362912</td>\n",
       "      <td>1.681886</td>\n",
       "    </tr>\n",
       "  </tbody>\n",
       "</table>\n",
       "</div>"
      ],
      "text/plain": [
       "          A         B         C      expA       ΔAB\n",
       "0 -0.509385 -0.114037  0.295179  0.600865 -0.395348\n",
       "1  0.167982 -0.343943  0.175211  1.182916  0.511925\n",
       "2 -0.434166  0.264908 -0.064196  0.647804 -0.699075\n",
       "3  0.082420  0.566734  0.193248  1.085912 -0.484313\n",
       "4  0.321084 -0.328885 -2.566184  1.378621  0.649969\n",
       "5  1.041196 -0.723471  0.339025  2.832602  1.764667\n",
       "6 -2.662387  1.579839 -0.555611  0.069781 -4.242226\n",
       "7 -1.354731  1.100460  1.625664  0.258017 -2.455192\n",
       "8 -0.698799  0.323471  2.201502  0.497182 -1.022271\n",
       "9  0.309624 -1.372263 -0.904501  1.362912  1.681886"
      ]
     },
     "execution_count": 3,
     "metadata": {},
     "output_type": "execute_result"
    }
   ],
   "source": [
    "import numpy as np\n",
    "df['expA'] = np.exp(df.A) \n",
    "df['ΔAB'] = df.A-df.B\n",
    "print(df.mean())\n",
    "df"
   ]
  },
  {
   "cell_type": "markdown",
   "metadata": {},
   "source": [
    "# Two mode example\n",
    "\n",
    "Now we'll do some quick logit calculations. Suppose people are choosing between walking and taking the bus."
   ]
  },
  {
   "cell_type": "markdown",
   "metadata": {},
   "source": [
    "$$\n",
    "        P_w = \\frac{\\exp(V_w)}{\\exp(V_w)+\\exp(V_b)} = \\frac{1}{1+\\exp(V_b-V_w)} = \\frac{1}{1+\\exp(-\\Delta wb)},\n",
    "$$\n",
    "where $\\Delta wb=V_w-V_b$."
   ]
  },
  {
   "cell_type": "code",
   "execution_count": 4,
   "metadata": {},
   "outputs": [
    {
     "data": {
      "text/plain": [
       "<AxesSubplot:xlabel='Δwb', ylabel='Pw'>"
      ]
     },
     "execution_count": 4,
     "metadata": {},
     "output_type": "execute_result"
    },
    {
     "data": {
      "image/png": "[encoded data removed]",
      "text/plain": [
       "<Figure size 432x288 with 1 Axes>"
      ]
     },
     "metadata": {
      "needs_background": "light"
     },
     "output_type": "display_data"
    }
   ],
   "source": [
    "df = pd.DataFrame(random.laplace(scale=1,size=(100,2)),columns=('Vw','Vb'))\n",
    "df['Pw'] = np.exp(df.Vw)/(np.exp(df.Vw)+np.exp(df.Vb))\n",
    "df['Δwb'] = df.Vw - df.Vb\n",
    "df.head()\n",
    "df.plot(x='Δwb',y='Pw',kind='scatter',alpha=0.5)"
   ]
  },
  {
   "cell_type": "markdown",
   "metadata": {},
   "source": [
    "# Three mode example\n",
    "\n",
    "Choose walking, taking the bus and driving.\n",
    "\n",
    "$$\n",
    "P_w = \\frac{exp(V_w)}{\\exp(V_w)+\\exp(V_b) + \\exp(V_d)} \n",
    "$$\n"
   ]
  },
  {
   "cell_type": "code",
   "execution_count": 7,
   "metadata": {},
   "outputs": [
    {
     "data": {
      "text/plain": [
       "<AxesSubplot:xlabel='Δwb', ylabel='Pw'>"
      ]
     },
     "execution_count": 7,
     "metadata": {},
     "output_type": "execute_result"
    },
    {
     "data": {
      "image/png": "[encoded data removed]",
      "text/plain": [
       "<Figure size 432x288 with 1 Axes>"
      ]
     },
     "metadata": {
      "needs_background": "light"
     },
     "output_type": "display_data"
    }
   ],
   "source": [
    "df = pd.DataFrame(random.laplace(scale=1,size=(100,3)),columns=('Vw','Vb','Vd'))\n",
    "df['Pw'] = np.exp(df.Vw)/(np.exp(df.Vw)+np.exp(df.Vb)+np.exp(df.Vd))\n",
    "df['Δwb'] = df.Vw - df.Vb\n",
    "# this plot is no longer neatly along a line\n",
    "df.plot(x='Δwb',y='Pw',kind='scatter',alpha=0.5)"
   ]
  },
  {
   "cell_type": "markdown",
   "metadata": {},
   "source": [
    "# Deriving utilities for walk/bus model"
   ]
  },
  {
   "cell_type": "code",
   "execution_count": 90,
   "metadata": {},
   "outputs": [
    {
     "data": {
      "text/plain": [
       "<matplotlib.axes._subplots.AxesSubplot at 0x1e940522340>"
      ]
     },
     "execution_count": 90,
     "metadata": {},
     "output_type": "execute_result"
    },
    {
     "data": {
      "image/png": "[encoded data removed]",
      "text/plain": [
       "<Figure size 432x288 with 1 Axes>"
      ]
     },
     "metadata": {
      "needs_background": "light"
     },
     "output_type": "display_data"
    }
   ],
   "source": [
    "#T is travel time\n",
    "βT = -2  #coefficient of travel time\n",
    "βM = -1 #coeffiient of money cost\n",
    "αB = -1 #alternative specific constant\n",
    "\n",
    "# utilities for each mode\n",
    "Vw = lambda T:  βT*T \n",
    "Vb = lambda T,M: αB + βT*T + βM*M  #αB is the 'alternative specific constant' for Bus\n",
    "\n",
    "# now get the predicted probabilities\n",
    "df = pd.DataFrame(\n",
    "                random.gamma(1,scale=1,size=(100,3)) #initial data are just draws from a gamma distribution\n",
    "                  ,columns=('Tb','Mb','Tw')\n",
    "                 )\n",
    "df['Tb'] = random.gamma(.5,size=(100,1)) #making the bus travel time lower by swapping with draws from a gamma w/ smaller mean\n",
    "df['Vb'] = Vb(df.Tb,df.Mb)\n",
    "df['Vw'] = Vw(df.Tw)\n",
    "df['Pw'] = np.exp(df.Vw)/(np.exp(df.Vw)+np.exp(df.Vb))\n",
    "df['ΔV'] = df.Vw-df.Vb\n",
    "df.plot('ΔV','Pw',kind='scatter',alpha=0.5)"
   ]
  },
  {
   "cell_type": "markdown",
   "metadata": {},
   "source": [
    "Now suppose each row above stands for a block in Champaign-Urbana, and each block has a different population."
   ]
  },
  {
   "cell_type": "code",
   "execution_count": 91,
   "metadata": {},
   "outputs": [],
   "source": [
    "df['BlockPop'] = random.uniform(low=150,high=250,size=(100,1)) #randomly generating the block populations\n",
    "df['BlockWalk'] = df.Pw*df.BlockPop #calculating the number of people on each block who walk"
   ]
  },
  {
   "cell_type": "code",
   "execution_count": 92,
   "metadata": {},
   "outputs": [
    {
     "data": {
      "text/plain": [
       "13073.501243349645"
      ]
     },
     "execution_count": 92,
     "metadata": {},
     "output_type": "execute_result"
    }
   ],
   "source": [
    "#total number of people who we predict will walk\n",
    "df.BlockWalk.sum()"
   ]
  },
  {
   "cell_type": "markdown",
   "metadata": {},
   "source": [
    "# Running a function row-by-row"
   ]
  },
  {
   "cell_type": "code",
   "execution_count": 84,
   "metadata": {},
   "outputs": [
    {
     "data": {
      "text/html": [
       "<div>\n",
       "<style scoped>\n",
       "    .dataframe tbody tr th:only-of-type {\n",
       "        vertical-align: middle;\n",
       "    }\n",
       "\n",
       "    .dataframe tbody tr th {\n",
       "        vertical-align: top;\n",
       "    }\n",
       "\n",
       "    .dataframe thead th {\n",
       "        text-align: right;\n",
       "    }\n",
       "</style>\n",
       "<table border=\"1\" class=\"dataframe\">\n",
       "  <thead>\n",
       "    <tr style=\"text-align: right;\">\n",
       "      <th></th>\n",
       "      <th>A</th>\n",
       "      <th>B</th>\n",
       "    </tr>\n",
       "  </thead>\n",
       "  <tbody>\n",
       "    <tr>\n",
       "      <th>0</th>\n",
       "      <td>0.323475</td>\n",
       "      <td>-0.323475</td>\n",
       "    </tr>\n",
       "    <tr>\n",
       "      <th>1</th>\n",
       "      <td>0.596628</td>\n",
       "      <td>-0.596628</td>\n",
       "    </tr>\n",
       "    <tr>\n",
       "      <th>2</th>\n",
       "      <td>3.996470</td>\n",
       "      <td>-3.996470</td>\n",
       "    </tr>\n",
       "    <tr>\n",
       "      <th>3</th>\n",
       "      <td>1.228602</td>\n",
       "      <td>-1.228602</td>\n",
       "    </tr>\n",
       "    <tr>\n",
       "      <th>4</th>\n",
       "      <td>1.264102</td>\n",
       "      <td>-1.264102</td>\n",
       "    </tr>\n",
       "  </tbody>\n",
       "</table>\n",
       "</div>"
      ],
      "text/plain": [
       "          A         B\n",
       "0  0.323475 -0.323475\n",
       "1  0.596628 -0.596628\n",
       "2  3.996470 -3.996470\n",
       "3  1.228602 -1.228602\n",
       "4  1.264102 -1.264102"
      ]
     },
     "execution_count": 84,
     "metadata": {},
     "output_type": "execute_result"
    }
   ],
   "source": [
    "def f(row):\n",
    "    return [row.Vw-row.Vb,row.Vb-row.Vw]\n",
    "    \n",
    "df2=df.apply(f,axis=1,result_type='expand')\n",
    "df2.head()\n",
    "df2.columns = ('A','B')\n",
    "df2.head()"
   ]
  },
  {
   "cell_type": "markdown",
   "metadata": {},
   "source": [
    "# Reading a dataframe from csv\n",
    "\n",
    "Your jupyter notebook needs to be in the same folder as your csv."
   ]
  },
  {
   "cell_type": "code",
   "execution_count": null,
   "metadata": {},
   "outputs": [],
   "source": [
    "import pandas as pd\n",
    "df = pd.read_csv('example_filename.csv')"
   ]
  }
 ],
 "metadata": {
  "kernelspec": {
   "display_name": "Python 3",
   "language": "python",
   "name": "python3"
  },
  "language_info": {
   "codemirror_mode": {
    "name": "ipython",
    "version": 3
   },
   "file_extension": ".py",
   "mimetype": "text/x-python",
   "name": "python",
   "nbconvert_exporter": "python",
   "pygments_lexer": "ipython3",
   "version": "3.7.7"
  }
 },
 "nbformat": 4,
 "nbformat_minor": 4
}
