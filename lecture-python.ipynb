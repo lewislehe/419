{
 "cells": [
  {
   "cell_type": "markdown",
   "id": "c432532c",
   "metadata": {},
   "source": [
    "# Import Packages"
   ]
  },
  {
   "cell_type": "code",
   "execution_count": 2,
   "id": "96a8c813",
   "metadata": {},
   "outputs": [],
   "source": [
    "import numpy as np\n",
    "import matplotlib.pyplot as plt\n",
    "import scipy.optimize as opt\n",
    "plt.style.use('ggplot')"
   ]
  },
  {
   "cell_type": "markdown",
   "id": "d89a9800",
   "metadata": {},
   "source": [
    "# Markdown and LaTeX\n",
    "## slightly smaller header\n",
    "### even smaller\n",
    "\n",
    "I can have bullets:\n",
    "+ item 1\n",
    "+ item 2\n",
    "\n",
    "\n",
    "I can have *italicized text* and I can have **bold text**.\n",
    "\n",
    "This is a link to the [New york times](https://nytimes.com).\n",
    "\n"
   ]
  },
  {
   "cell_type": "markdown",
   "id": "cc16e787",
   "metadata": {},
   "source": [
    "## Latex\n",
    "\n",
    "When I want to write math on its own paragraph I use two  dollar signs:\n",
    "$$\n",
    "\\alpha = \\frac{\\beta}{\\gamma} \\int_0^{\\infty} f(x)dx\n",
    "$$\n",
    "\n",
    "When I want to write math inline I use one dollar sign:\n",
    "\n",
    "The answer to this problem is $\\alpha$."
   ]
  },
  {
   "cell_type": "markdown",
   "id": "12b1c7c3",
   "metadata": {},
   "source": [
    "# Printing numbers"
   ]
  },
  {
   "cell_type": "code",
   "execution_count": 23,
   "id": "75f6c284",
   "metadata": {},
   "outputs": [
    {
     "name": "stdout",
     "output_type": "stream",
     "text": [
      "the answer to question 1 is 0.02 and the answer to question 2 is -0.24\n"
     ]
    }
   ],
   "source": [
    "num1 = np.random.normal()\n",
    "num2 = np.random.normal()\n",
    "print(\"the answer to question 1 is {:.2f} and the answer to question 2 is {:.2f}\".format(num1,num2))"
   ]
  },
  {
   "cell_type": "markdown",
   "id": "54f4da7b",
   "metadata": {},
   "source": [
    "# Functions\n",
    "\n",
    "There are regular functions and *lambda* functions."
   ]
  },
  {
   "cell_type": "code",
   "execution_count": 36,
   "id": "9e2e9200",
   "metadata": {},
   "outputs": [
    {
     "data": {
      "text/plain": [
       "12"
      ]
     },
     "execution_count": 36,
     "metadata": {},
     "output_type": "execute_result"
    }
   ],
   "source": [
    "# multiline function\n",
    "def laser(a,b):\n",
    "    c = a**2\n",
    "    return a + 2*b + c\n",
    "\n",
    "# lambda function\n",
    "myFun = lambda a,b: a + 2*b + a**2\n",
    "\n",
    "laser(2,3)\n",
    "myFun(2,3)\n"
   ]
  },
  {
   "cell_type": "markdown",
   "id": "81013cea",
   "metadata": {},
   "source": [
    "# Plotting"
   ]
  },
  {
   "cell_type": "code",
   "execution_count": 14,
   "id": "4e29c352",
   "metadata": {},
   "outputs": [
    {
     "data": {
      "text/plain": [
       "<matplotlib.legend.Legend at 0x1e968eb0c40>"
      ]
     },
     "execution_count": 14,
     "metadata": {},
     "output_type": "execute_result"
    },
    {
     "data": {
      "image/png": "[encoded data removed]",
      "text/plain": [
       "<Figure size 576x288 with 1 Axes>"
      ]
     },
     "metadata": {},
     "output_type": "display_data"
    }
   ],
   "source": [
    "xs = np.linspace(0,10,20)\n",
    "ys = xs**2\n",
    "ys2 = 3*xs\n",
    "fig,ax = plt.subplots(figsize=(8,4))\n",
    "ax.scatter(xs,ys2,label=\"y2\",s=20)\n",
    "ax.plot(xs,ys,label=\"y1\",color=\"black\",alpha=0.5,ls=\"--\")\n",
    "ax.set_ylim([0,100])\n",
    "ax.set_xlim([0,10])\n",
    "ax.legend()"
   ]
  },
  {
   "cell_type": "markdown",
   "id": "db19e12b",
   "metadata": {},
   "source": [
    "# Root finding\n",
    "\n",
    "Suppose you have \n",
    "\n",
    "$$\n",
    "x e^x = 2x + 1\n",
    "$$\n",
    "Same answer as\n",
    "$$\n",
    "x e^x - 2x - 1 = 0\n",
    "$$\n"
   ]
  },
  {
   "cell_type": "code",
   "execution_count": 24,
   "id": "1c2a4eab",
   "metadata": {},
   "outputs": [
    {
     "name": "stdout",
     "output_type": "stream",
     "text": [
      "the answer is -0.67\n"
     ]
    },
    {
     "data": {
      "image/png": "[encoded data removed]",
      "text/plain": [
       "<Figure size 432x288 with 1 Axes>"
      ]
     },
     "metadata": {},
     "output_type": "display_data"
    }
   ],
   "source": [
    "f = lambda x: x*np.exp(x) - 2*x -1\n",
    "\n",
    "xs = np.linspace(-1,2,40)\n",
    "fs = f(xs)\n",
    "fig,ax = plt.subplots()\n",
    "\n",
    "ax.plot(xs,fs)\n",
    "\n",
    "res = opt.root_scalar(f,bracket=[-1,0]).root\n",
    "print('the answer is {:.2f}'.format(res))"
   ]
  },
  {
   "cell_type": "markdown",
   "id": "ef482bdd",
   "metadata": {},
   "source": [
    "# Min/maximization"
   ]
  },
  {
   "cell_type": "code",
   "execution_count": 7,
   "id": "f6fdd9d0",
   "metadata": {},
   "outputs": [
    {
     "data": {
      "text/plain": [
       "     fun: -6.436902811947524\n",
       "     jac: array([-1., -1.,  0.])\n",
       " message: 'Optimization terminated successfully'\n",
       "    nfev: 37\n",
       "     nit: 9\n",
       "    njev: 9\n",
       "  status: 0\n",
       " success: True\n",
       "       x: array([3.4621417 , 2.97476111, 3.4621417 ])"
      ]
     },
     "execution_count": 7,
     "metadata": {},
     "output_type": "execute_result"
    }
   ],
   "source": [
    "P1 = lambda x1: 4 - .5*x1\n",
    "P2 = lambda x2: 3 - .75*x2\n",
    "\n",
    "cx = .5\n",
    "ck = 2\n",
    "π = lambda x1,x2,k: x1*P1(x1) + x2*P2(x2) - cx*(x1+x2) - ck * k\n",
    "\n",
    "#the objective function\n",
    "f = lambda x1,x2: x1 + x2\n",
    "\n",
    "#the contraint function\n",
    "def fun(xs):\n",
    "    x1,x2,k = xs\n",
    "    return np.array([\n",
    "        k-x1,\n",
    "        k-x2,\n",
    "        π(x1,x2,k)\n",
    "    ])\n",
    "constraints = {'type':'ineq', 'fun': fun}\n",
    "\n",
    "res=opt.minimize(lambda xs: -f(xs[0],xs[1]), x0=(.2,.2,.2), constraints=constraints,bounds=((0,None),(0,None),(0,None)))\n",
    "res\n"
   ]
  },
  {
   "cell_type": "markdown",
   "id": "60a2bb99",
   "metadata": {},
   "source": [
    "# Pandas"
   ]
  },
  {
   "cell_type": "code",
   "execution_count": 10,
   "id": "8c94ca15",
   "metadata": {},
   "outputs": [
    {
     "data": {
      "text/html": [
       "<div>\n",
       "<style scoped>\n",
       "    .dataframe tbody tr th:only-of-type {\n",
       "        vertical-align: middle;\n",
       "    }\n",
       "\n",
       "    .dataframe tbody tr th {\n",
       "        vertical-align: top;\n",
       "    }\n",
       "\n",
       "    .dataframe thead th {\n",
       "        text-align: right;\n",
       "    }\n",
       "</style>\n",
       "<table border=\"1\" class=\"dataframe\">\n",
       "  <thead>\n",
       "    <tr style=\"text-align: right;\">\n",
       "      <th></th>\n",
       "      <th>a</th>\n",
       "      <th>b</th>\n",
       "    </tr>\n",
       "  </thead>\n",
       "  <tbody>\n",
       "    <tr>\n",
       "      <th>9</th>\n",
       "      <td>-2.211144</td>\n",
       "      <td>0.551103</td>\n",
       "    </tr>\n",
       "    <tr>\n",
       "      <th>18</th>\n",
       "      <td>-2.152040</td>\n",
       "      <td>0.592243</td>\n",
       "    </tr>\n",
       "    <tr>\n",
       "      <th>12</th>\n",
       "      <td>-1.713078</td>\n",
       "      <td>0.672160</td>\n",
       "    </tr>\n",
       "    <tr>\n",
       "      <th>14</th>\n",
       "      <td>-1.533259</td>\n",
       "      <td>0.052571</td>\n",
       "    </tr>\n",
       "    <tr>\n",
       "      <th>3</th>\n",
       "      <td>-1.327420</td>\n",
       "      <td>-0.460523</td>\n",
       "    </tr>\n",
       "  </tbody>\n",
       "</table>\n",
       "</div>"
      ],
      "text/plain": [
       "           a         b\n",
       "9  -2.211144  0.551103\n",
       "18 -2.152040  0.592243\n",
       "12 -1.713078  0.672160\n",
       "14 -1.533259  0.052571\n",
       "3  -1.327420 -0.460523"
      ]
     },
     "execution_count": 10,
     "metadata": {},
     "output_type": "execute_result"
    }
   ],
   "source": [
    "import pandas as pd\n",
    "N = 20\n",
    "df = pd.DataFrame({'a': np.random.normal(size=N)  , 'b': np.random.normal(size=N)})\n",
    "df.sort_values(by='a').head()"
   ]
  },
  {
   "cell_type": "code",
   "execution_count": null,
   "id": "31710e28",
   "metadata": {},
   "outputs": [],
   "source": []
  }
 ],
 "metadata": {
  "kernelspec": {
   "display_name": "Python 3 (ipykernel)",
   "language": "python",
   "name": "python3"
  },
  "language_info": {
   "codemirror_mode": {
    "name": "ipython",
    "version": 3
   },
   "file_extension": ".py",
   "mimetype": "text/x-python",
   "name": "python",
   "nbconvert_exporter": "python",
   "pygments_lexer": "ipython3",
   "version": "3.9.7"
  }
 },
 "nbformat": 4,
 "nbformat_minor": 5
}
