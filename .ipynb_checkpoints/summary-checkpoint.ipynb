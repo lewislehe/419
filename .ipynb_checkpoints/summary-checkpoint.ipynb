{
 "cells": [
  {
   "cell_type": "markdown",
   "metadata": {},
   "source": [
    "# Import packages"
   ]
  },
  {
   "cell_type": "code",
   "execution_count": 2,
   "metadata": {},
   "outputs": [],
   "source": [
    "import numpy as np\n",
    "import matplotlib.pyplot as plt\n",
    "import scipy.optimize as opt\n",
    "import pandas as pd\n",
    "plt.style.use('ggplot')"
   ]
  },
  {
   "cell_type": "markdown",
   "metadata": {},
   "source": [
    "# Printing"
   ]
  },
  {
   "cell_type": "code",
   "execution_count": 3,
   "metadata": {},
   "outputs": [
    {
     "name": "stdout",
     "output_type": "stream",
     "text": [
      "the answer is h1=0.17 h2=-0.87\n",
      "the answer to question 1 is h1=0.17 \n",
      "the answer to question 2 is h2=-0.87\n"
     ]
    }
   ],
   "source": [
    "h1 = np.random.normal()\n",
    "h2 = np.random.normal()\n",
    "#print it rounded to two decimal places\n",
    "print(\"the answer is h1={:.2f} h2={:.2f}\".format(h1,h2))\n",
    "# add a line break in\n",
    "print(\"the answer to question 1 is h1={:.2f} \\nthe answer to question 2 is h2={:.2f}\".format(h1,h2))"
   ]
  },
  {
   "cell_type": "markdown",
   "metadata": {},
   "source": [
    "# Plotting with matplotlib"
   ]
  },
  {
   "cell_type": "code",
   "execution_count": 4,
   "metadata": {},
   "outputs": [],
   "source": [
    "def fixPlot():#this is a function for formatting the plot to be called after data is added\n",
    "    plt.legend();plt.ylim(0,plt.ylim()[1]);plt.xlim(0,plt.xlim()[1]);"
   ]
  },
  {
   "cell_type": "code",
   "execution_count": 5,
   "metadata": {},
   "outputs": [
    {
     "data": {
      "text/plain": [
       "Text(0, 0.5, '$')"
      ]
     },
     "execution_count": 5,
     "metadata": {},
     "output_type": "execute_result"
    },
    {
     "data": {
      "image/png": "[encoded data removed]",
      "text/plain": [
       "<Figure size 432x288 with 1 Axes>"
      ]
     },
     "metadata": {},
     "output_type": "display_data"
    }
   ],
   "source": [
    "ps = np.linspace(0,2,30) #prices\n",
    "xs1 = np.exp(-ps) #resulting demand from x(p)=e^-p\n",
    "\n",
    "#plot inverse demand functions\n",
    "plt.plot(xs1,ps,color='blue',label='P1',alpha=0.7)\n",
    "fixPlot();\n",
    "plt.xlabel('x')\n",
    "plt.ylabel('$')"
   ]
  },
  {
   "cell_type": "markdown",
   "metadata": {},
   "source": [
    "# Pandas basics"
   ]
  },
  {
   "cell_type": "code",
   "execution_count": 6,
   "metadata": {},
   "outputs": [
    {
     "data": {
      "text/html": [
       "<div>\n",
       "<style scoped>\n",
       "    .dataframe tbody tr th:only-of-type {\n",
       "        vertical-align: middle;\n",
       "    }\n",
       "\n",
       "    .dataframe tbody tr th {\n",
       "        vertical-align: top;\n",
       "    }\n",
       "\n",
       "    .dataframe thead th {\n",
       "        text-align: right;\n",
       "    }\n",
       "</style>\n",
       "<table border=\"1\" class=\"dataframe\">\n",
       "  <thead>\n",
       "    <tr style=\"text-align: right;\">\n",
       "      <th></th>\n",
       "      <th>A</th>\n",
       "      <th>x</th>\n",
       "      <th>C</th>\n",
       "    </tr>\n",
       "  </thead>\n",
       "  <tbody>\n",
       "    <tr>\n",
       "      <th>0</th>\n",
       "      <td>1.420383</td>\n",
       "      <td>0.000000</td>\n",
       "      <td>0.404465</td>\n",
       "    </tr>\n",
       "    <tr>\n",
       "      <th>1</th>\n",
       "      <td>0.366108</td>\n",
       "      <td>0.102041</td>\n",
       "      <td>1.572103</td>\n",
       "    </tr>\n",
       "    <tr>\n",
       "      <th>4</th>\n",
       "      <td>0.679788</td>\n",
       "      <td>0.408163</td>\n",
       "      <td>-0.161243</td>\n",
       "    </tr>\n",
       "    <tr>\n",
       "      <th>6</th>\n",
       "      <td>0.777114</td>\n",
       "      <td>0.612245</td>\n",
       "      <td>1.433935</td>\n",
       "    </tr>\n",
       "    <tr>\n",
       "      <th>7</th>\n",
       "      <td>0.978618</td>\n",
       "      <td>0.714286</td>\n",
       "      <td>1.314220</td>\n",
       "    </tr>\n",
       "  </tbody>\n",
       "</table>\n",
       "</div>"
      ],
      "text/plain": [
       "          A         x         C\n",
       "0  1.420383  0.000000  0.404465\n",
       "1  0.366108  0.102041  1.572103\n",
       "4  0.679788  0.408163 -0.161243\n",
       "6  0.777114  0.612245  1.433935\n",
       "7  0.978618  0.714286  1.314220"
      ]
     },
     "execution_count": 6,
     "metadata": {},
     "output_type": "execute_result"
    }
   ],
   "source": [
    "#make a DataFrame\n",
    "N = 50\n",
    "df = pd.DataFrame({'A': np.random.normal(0,1,N),'B':np.random.beta(1,1,N), 'x': np.linspace(0,5,N)})\n",
    "df.head()\n",
    "\n",
    "# add a column\n",
    "df['C'] = np.random.normal(.5,1,N)\n",
    "\n",
    "#drop a column\n",
    "df = df.drop('B',axis=1)\n",
    "\n",
    "#filter the rows where A is positive\n",
    "df = df[df.A>=0]\n",
    "df.head()"
   ]
  },
  {
   "cell_type": "markdown",
   "metadata": {},
   "source": [
    "## Scatter plot from pandas dataframe"
   ]
  },
  {
   "cell_type": "code",
   "execution_count": 7,
   "metadata": {},
   "outputs": [
    {
     "data": {
      "text/plain": [
       "Text(0, 0.5, 'draw')"
      ]
     },
     "execution_count": 7,
     "metadata": {},
     "output_type": "execute_result"
    },
    {
     "data": {
      "image/png": "[encoded data removed]",
      "text/plain": [
       "<Figure size 432x288 with 1 Axes>"
      ]
     },
     "metadata": {},
     "output_type": "display_data"
    }
   ],
   "source": [
    "# plot as scatter\n",
    "ax = df.plot('x','A',kind='scatter',color='red',alpha=0.5,label='A') #make sure to declare a label\n",
    "df.plot('x','C',kind='scatter', ax=ax,color='blue',alpha=0.5,label='C')\n",
    "ax.legend() #show a legend\n",
    "ax.set_xlabel(\"x\") #set the xlabel\n",
    "ax.set_ylabel(\"draw\") #set the y label"
   ]
  },
  {
   "cell_type": "code",
   "execution_count": 8,
   "metadata": {},
   "outputs": [
    {
     "data": {
      "text/html": [
       "<div>\n",
       "<style scoped>\n",
       "    .dataframe tbody tr th:only-of-type {\n",
       "        vertical-align: middle;\n",
       "    }\n",
       "\n",
       "    .dataframe tbody tr th {\n",
       "        vertical-align: top;\n",
       "    }\n",
       "\n",
       "    .dataframe thead th {\n",
       "        text-align: right;\n",
       "    }\n",
       "</style>\n",
       "<table border=\"1\" class=\"dataframe\">\n",
       "  <thead>\n",
       "    <tr style=\"text-align: right;\">\n",
       "      <th></th>\n",
       "      <th>A</th>\n",
       "      <th>x</th>\n",
       "      <th>C</th>\n",
       "      <th>result1</th>\n",
       "      <th>result2</th>\n",
       "    </tr>\n",
       "  </thead>\n",
       "  <tbody>\n",
       "    <tr>\n",
       "      <th>0</th>\n",
       "      <td>1.420383</td>\n",
       "      <td>0.000000</td>\n",
       "      <td>0.404465</td>\n",
       "      <td>2.840766</td>\n",
       "      <td>0.202233</td>\n",
       "    </tr>\n",
       "    <tr>\n",
       "      <th>1</th>\n",
       "      <td>0.366108</td>\n",
       "      <td>0.102041</td>\n",
       "      <td>1.572103</td>\n",
       "      <td>0.732216</td>\n",
       "      <td>0.786051</td>\n",
       "    </tr>\n",
       "    <tr>\n",
       "      <th>4</th>\n",
       "      <td>0.679788</td>\n",
       "      <td>0.408163</td>\n",
       "      <td>-0.161243</td>\n",
       "      <td>1.359576</td>\n",
       "      <td>-0.080621</td>\n",
       "    </tr>\n",
       "    <tr>\n",
       "      <th>6</th>\n",
       "      <td>0.777114</td>\n",
       "      <td>0.612245</td>\n",
       "      <td>1.433935</td>\n",
       "      <td>1.554228</td>\n",
       "      <td>0.716968</td>\n",
       "    </tr>\n",
       "    <tr>\n",
       "      <th>7</th>\n",
       "      <td>0.978618</td>\n",
       "      <td>0.714286</td>\n",
       "      <td>1.314220</td>\n",
       "      <td>1.957235</td>\n",
       "      <td>0.657110</td>\n",
       "    </tr>\n",
       "  </tbody>\n",
       "</table>\n",
       "</div>"
      ],
      "text/plain": [
       "          A         x         C   result1   result2\n",
       "0  1.420383  0.000000  0.404465  2.840766  0.202233\n",
       "1  0.366108  0.102041  1.572103  0.732216  0.786051\n",
       "4  0.679788  0.408163 -0.161243  1.359576 -0.080621\n",
       "6  0.777114  0.612245  1.433935  1.554228  0.716968\n",
       "7  0.978618  0.714286  1.314220  1.957235  0.657110"
      ]
     },
     "execution_count": 8,
     "metadata": {},
     "output_type": "execute_result"
    }
   ],
   "source": [
    "# iterate an operation over rows\n",
    "#this is too simple to do in this way really but you get the gist\n",
    "df[['result1','result2']] = df.apply(lambda row: [row.A*2,row.C/2], result_type='expand',axis=1) \n",
    "df.head()"
   ]
  },
  {
   "cell_type": "markdown",
   "metadata": {},
   "source": [
    "# Unconstrained Maximization\n",
    "\n",
    "You have a demand function \n",
    "$$X(p) = 10 - 2p,$$\n",
    "where \\(p\\) is price. And total cost function\n",
    "$$TC(x) = 2 + 1.5x.$$\n",
    "\n",
    "You want to maximize profit."
   ]
  },
  {
   "cell_type": "code",
   "execution_count": 9,
   "metadata": {},
   "outputs": [
    {
     "name": "stdout",
     "output_type": "stream",
     "text": [
      "So the profit-maximizing quantity is 3.50\n",
      " and the profit-maximizing price is 3.2\n"
     ]
    },
    {
     "data": {
      "image/png": "[encoded data removed]",
      "text/plain": [
       "<Figure size 432x288 with 1 Axes>"
      ]
     },
     "metadata": {},
     "output_type": "display_data"
    }
   ],
   "source": [
    "#start out by creating the functions\n",
    "X = lambda p: 10 - 2*p #demand\n",
    "P = lambda x: .5*(10-x) #inverse demand, with x as demand\n",
    "TC = lambda x: 2+1.5*x #total cost\n",
    "TR = lambda x: x*P(x) #total revenue\n",
    "π = lambda x: TR(x) - TC(x) #profit\n",
    "\n",
    "# now plot\n",
    "xs = np.linspace(.1,10,40)\n",
    "πs = π(xs)\n",
    "plt.plot(xs,πs)\n",
    "plt.ylim(0,5)\n",
    "\n",
    "#now calculcate where the profit is maximized by minimumizing the *negative* of profit\n",
    "res = opt.minimize(lambda x: -π(x),x0=3).x[0]\n",
    "# print(res)\n",
    "print(\"So the profit-maximizing quantity is {:.2f}\\n and the profit-maximizing price is {:.2}\".format(res,P(res)))"
   ]
  },
  {
   "cell_type": "markdown",
   "metadata": {},
   "source": [
    "# Constrained Maximization\n",
    "\n",
    "In this problem, we have an inverse demand function, and we want to maximize revenue subject to the condition that profit $\\pi$ is at least $\\pi_{\\min}$."
   ]
  },
  {
   "cell_type": "code",
   "execution_count": 55,
   "metadata": {},
   "outputs": [
    {
     "name": "stdout",
     "output_type": "stream",
     "text": [
      "The optimal values are x=0.60, P=1.50, π=0.78, TR=0.90\n"
     ]
    }
   ],
   "source": [
    "π_min = 0.3\n",
    "P = lambda x: 3 - 2.5*x\n",
    "TR = lambda x: P(x)*x\n",
    "c = .2 #marginal cost/variable cost per ride\n",
    "C = lambda x: c*x\n",
    "π = lambda x: TR(x) - C(x)\n",
    "\n",
    "\n",
    "def fun(x):\n",
    "    x = x[0]\n",
    "    return np.array([\n",
    "        π(x)- π_min\n",
    "    ])\n",
    "\n",
    "constraints = {'type': 'ineq', 'fun': fun}\n",
    "res = opt.minimize(lambda x: -TR(x[0]), x0=(1.0), constraints=constraints)\n",
    "xstar = res.x[0]\n",
    "print(\"The optimal values are x={:.2f}, P={:.2f}, π={:.2f}, TR={:.2f}\".format(xstar,P(xstar),π(xstar),TR(xstar)))"
   ]
  },
  {
   "cell_type": "markdown",
   "metadata": {},
   "source": [
    "# Root finding"
   ]
  },
  {
   "cell_type": "markdown",
   "metadata": {},
   "source": [
    "Suppose you want to solve the equation $$x e^x = 2x + 1.$$\n",
    "\n",
    "Rewrite it as $$x e^x - 2x - 1=0$$ and seek the root."
   ]
  },
  {
   "cell_type": "code",
   "execution_count": 57,
   "metadata": {},
   "outputs": [
    {
     "name": "stdout",
     "output_type": "stream",
     "text": [
      "the root is 1.08\n",
      "-0.6715530942502677\n"
     ]
    },
    {
     "data": {
      "image/png": "[encoded data removed]",
      "text/plain": [
       "<Figure size 432x288 with 1 Axes>"
      ]
     },
     "metadata": {},
     "output_type": "display_data"
    }
   ],
   "source": [
    "f = lambda x: x*np.exp(x) - 2*x - 1\n",
    "\n",
    "#plot it to get an idea\n",
    "xs = np.linspace(-1,2,40)\n",
    "fs = f(xs)\n",
    "plt.plot(xs,fs)\n",
    "\n",
    "#from the plot we can see that there is a root around 1. i want to see that one.\n",
    "res = opt.root_scalar(f,bracket=[.1,1.5]) #the two points of the bracket must give f(x) on opposite sides of zero (one positive, one negative)\n",
    "print(\"the root is {:.2f}\".format(res.root))\n",
    "\n",
    "#it may also be convenient to use the general root function like this\n",
    "res = opt.root(lambda x: f(x[0]),x0=(.1)).x[0] #note this is set up for multiple variables so you need .x[0]\n",
    "print(res)\n",
    "# print(\"the root is {:.2f}\".format(res.root))"
   ]
  },
  {
   "cell_type": "markdown",
   "metadata": {},
   "source": [
    "# Classes"
   ]
  },
  {
   "cell_type": "code",
   "execution_count": 60,
   "metadata": {},
   "outputs": [
    {
     "name": "stdout",
     "output_type": "stream",
     "text": [
      "10\n",
      "-5\n"
     ]
    }
   ],
   "source": [
    "class Line:\n",
    "    def __init__(self,intercept,slope):\n",
    "        self.intercept=intercept\n",
    "        self.slope= slope\n",
    "        \n",
    "    def value_at_x(self,x):\n",
    "        return self.intercept + self.slope*x\n",
    "\n",
    "L1 = Line(1,3)\n",
    "L2 = Line(-2,-1)\n",
    "print(L1.value_at_x(3))\n",
    "print(L2.value_at_x(3))"
   ]
  },
  {
   "cell_type": "markdown",
   "metadata": {},
   "source": [
    "# Integration\n",
    "\n",
    "Suppose you want to integrate $x^2$ from 1 to 3."
   ]
  },
  {
   "cell_type": "code",
   "execution_count": 64,
   "metadata": {},
   "outputs": [
    {
     "data": {
      "text/plain": [
       "8.666666666666668"
      ]
     },
     "execution_count": 64,
     "metadata": {},
     "output_type": "execute_result"
    }
   ],
   "source": [
    "from scipy.integrate import quad\n",
    "quad(lambda x: x**2,1,3)[0]"
   ]
  },
  {
   "cell_type": "markdown",
   "metadata": {},
   "source": [
    "# Ternary operator"
   ]
  },
  {
   "cell_type": "code",
   "execution_count": 65,
   "metadata": {},
   "outputs": [
    {
     "name": "stdout",
     "output_type": "stream",
     "text": [
      "-6\n",
      "7\n"
     ]
    }
   ],
   "source": [
    "testFun = lambda a,b: a if (a>b) else -a \n",
    "print(testFun(6,7))\n",
    "print(testFun(7,5))"
   ]
  },
  {
   "cell_type": "markdown",
   "metadata": {},
   "source": [
    "# Vectorization"
   ]
  },
  {
   "cell_type": "markdown",
   "metadata": {},
   "source": [
    "To make many functions work row-by-row, such as functions with a ternary operators, you have to **vectorize** them."
   ]
  },
  {
   "cell_type": "code",
   "execution_count": 71,
   "metadata": {},
   "outputs": [
    {
     "ename": "ValueError",
     "evalue": "The truth value of an array with more than one element is ambiguous. Use a.any() or a.all()",
     "output_type": "error",
     "traceback": [
      "\u001b[1;31m---------------------------------------------------------------------------\u001b[0m",
      "\u001b[1;31mValueError\u001b[0m                                Traceback (most recent call last)",
      "\u001b[1;32m<ipython-input-71-68731b167767>\u001b[0m in \u001b[0;36m<module>\u001b[1;34m\u001b[0m\n\u001b[0;32m      1\u001b[0m \u001b[1;32mfrom\u001b[0m \u001b[0mnumpy\u001b[0m \u001b[1;32mimport\u001b[0m \u001b[0mvectorize\u001b[0m\u001b[1;33m\u001b[0m\u001b[1;33m\u001b[0m\u001b[0m\n\u001b[0;32m      2\u001b[0m \u001b[0mAs\u001b[0m\u001b[1;33m,\u001b[0m\u001b[0mBs\u001b[0m \u001b[1;33m=\u001b[0m \u001b[0mnp\u001b[0m\u001b[1;33m.\u001b[0m\u001b[0mrandom\u001b[0m\u001b[1;33m.\u001b[0m\u001b[0mnormal\u001b[0m\u001b[1;33m(\u001b[0m\u001b[0msize\u001b[0m\u001b[1;33m=\u001b[0m\u001b[1;36m5\u001b[0m\u001b[1;33m)\u001b[0m\u001b[1;33m,\u001b[0m\u001b[0mnp\u001b[0m\u001b[1;33m.\u001b[0m\u001b[0mrandom\u001b[0m\u001b[1;33m.\u001b[0m\u001b[0mnormal\u001b[0m\u001b[1;33m(\u001b[0m\u001b[0msize\u001b[0m\u001b[1;33m=\u001b[0m\u001b[1;36m5\u001b[0m\u001b[1;33m)\u001b[0m\u001b[1;33m\u001b[0m\u001b[1;33m\u001b[0m\u001b[0m\n\u001b[1;32m----> 3\u001b[1;33m \u001b[0mtestFun\u001b[0m\u001b[1;33m(\u001b[0m\u001b[0mAs\u001b[0m\u001b[1;33m,\u001b[0m\u001b[0mBs\u001b[0m\u001b[1;33m)\u001b[0m\u001b[1;33m\u001b[0m\u001b[1;33m\u001b[0m\u001b[0m\n\u001b[0m",
      "\u001b[1;32m<ipython-input-65-a4683e855213>\u001b[0m in \u001b[0;36m<lambda>\u001b[1;34m(a, b)\u001b[0m\n\u001b[1;32m----> 1\u001b[1;33m \u001b[0mtestFun\u001b[0m \u001b[1;33m=\u001b[0m \u001b[1;32mlambda\u001b[0m \u001b[0ma\u001b[0m\u001b[1;33m,\u001b[0m\u001b[0mb\u001b[0m\u001b[1;33m:\u001b[0m \u001b[0ma\u001b[0m \u001b[1;32mif\u001b[0m \u001b[1;33m(\u001b[0m\u001b[0ma\u001b[0m\u001b[1;33m>\u001b[0m\u001b[0mb\u001b[0m\u001b[1;33m)\u001b[0m \u001b[1;32melse\u001b[0m \u001b[1;33m-\u001b[0m\u001b[0ma\u001b[0m\u001b[1;33m\u001b[0m\u001b[1;33m\u001b[0m\u001b[0m\n\u001b[0m\u001b[0;32m      2\u001b[0m \u001b[0mprint\u001b[0m\u001b[1;33m(\u001b[0m\u001b[0mtestFun\u001b[0m\u001b[1;33m(\u001b[0m\u001b[1;36m6\u001b[0m\u001b[1;33m,\u001b[0m\u001b[1;36m7\u001b[0m\u001b[1;33m)\u001b[0m\u001b[1;33m)\u001b[0m\u001b[1;33m\u001b[0m\u001b[1;33m\u001b[0m\u001b[0m\n\u001b[0;32m      3\u001b[0m \u001b[0mprint\u001b[0m\u001b[1;33m(\u001b[0m\u001b[0mtestFun\u001b[0m\u001b[1;33m(\u001b[0m\u001b[1;36m7\u001b[0m\u001b[1;33m,\u001b[0m\u001b[1;36m5\u001b[0m\u001b[1;33m)\u001b[0m\u001b[1;33m)\u001b[0m\u001b[1;33m\u001b[0m\u001b[1;33m\u001b[0m\u001b[0m\n",
      "\u001b[1;31mValueError\u001b[0m: The truth value of an array with more than one element is ambiguous. Use a.any() or a.all()"
     ]
    }
   ],
   "source": [
    "As,Bs = np.random.normal(size=5),np.random.normal(size=5)\n",
    "testFun(As,Bs)"
   ]
  },
  {
   "cell_type": "code",
   "execution_count": 74,
   "metadata": {},
   "outputs": [
    {
     "data": {
      "text/plain": [
       "array([0.07466845, 0.58765486, 0.33845703, 1.06453821, 1.69045363])"
      ]
     },
     "execution_count": 74,
     "metadata": {},
     "output_type": "execute_result"
    }
   ],
   "source": [
    "#here we import vectorize from numpy, similar to df.apply\n",
    "from numpy import vectorize\n",
    "np.vectorize(testFun)(As,Bs)"
   ]
  }
 ],
 "metadata": {
  "kernelspec": {
   "display_name": "Python 3 (ipykernel)",
   "language": "python",
   "name": "python3"
  },
  "language_info": {
   "codemirror_mode": {
    "name": "ipython",
    "version": 3
   },
   "file_extension": ".py",
   "mimetype": "text/x-python",
   "name": "python",
   "nbconvert_exporter": "python",
   "pygments_lexer": "ipython3",
   "version": "3.7.7"
  }
 },
 "nbformat": 4,
 "nbformat_minor": 4
}
