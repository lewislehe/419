{
 "cells": [
  {
   "cell_type": "code",
   "execution_count": 5,
   "id": "5140e249",
   "metadata": {},
   "outputs": [
    {
     "data": {
      "text/plain": [
       "(3.4621416969902086, 2.9747611149573157, 3.462141696990209)"
      ]
     },
     "execution_count": 5,
     "metadata": {},
     "output_type": "execute_result"
    }
   ],
   "source": [
    "import numpy as np\n",
    "import scipy.optimize as opt\n",
    "import matplotlib.pyplot as plt\n",
    "\n",
    "# parameters\n",
    "cx = 0.5\n",
    "ck = 2.0\n",
    "\n",
    "#functions\n",
    "P1 =  lambda x1: 4 - 0.5*x1\n",
    "P2 = lambda x2: 3-.75*x2\n",
    "π = lambda x1,x2,k: x1*P1(x1) + x2*P2(x2) - cx*(x1+x2) - ck*k\n",
    "f = lambda x1,x2: x1 + x2\n",
    "\n",
    "def constraint_fun(x1,x2,k):\n",
    "    return np.array([\n",
    "        k - x1,\n",
    "        k - x2,\n",
    "        π(x1,x2,k)\n",
    "    ])\n",
    "\n",
    "constraints = {'type':'ineq','fun': lambda xs: constraint_fun(xs[0],xs[1],xs[2])}\n",
    "\n",
    "x1,x2,k = opt.minimize(lambda xs: -f(xs[0],xs[1]), x0=(.2,.2,.2),constraints=constraints,bounds=((0,None),(0,None),(0,None))).x\n",
    "x1,x2,k"
   ]
  }
 ],
 "metadata": {
  "kernelspec": {
   "display_name": "Python 3 (ipykernel)",
   "language": "python",
   "name": "python3"
  },
  "language_info": {
   "codemirror_mode": {
    "name": "ipython",
    "version": 3
   },
   "file_extension": ".py",
   "mimetype": "text/x-python",
   "name": "python",
   "nbconvert_exporter": "python",
   "pygments_lexer": "ipython3",
   "version": "3.7.7"
  }
 },
 "nbformat": 4,
 "nbformat_minor": 5
}
